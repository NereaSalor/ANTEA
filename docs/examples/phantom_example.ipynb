{
 "cells": [
  {
   "cell_type": "code",
   "execution_count": 2,
   "metadata": {},
   "outputs": [],
   "source": [
    "%matplotlib inline\n",
    "\n",
    "import numpy  as np\n",
    "import matplotlib as mpl\n",
    "import matplotlib.pyplot as plt\n",
    "\n",
    "import antea.mcsim.phantom as ph"
   ]
  },
  {
   "cell_type": "markdown",
   "metadata": {},
   "source": [
    "# Create a NEMA-like phantom\n",
    "Note we will sample to a 1 mm resolution.  The phantom consists of:\n",
    "\n",
    "- 4 radioactive spheres of radii 4, 6.5, 8.5, and 11 mm\n",
    "- 2 cold spheres of radii 14, 18.5 mm\n",
    "- a cold central cylinder of radius 20 mm and z-length of 100 mm\n",
    "- all spheres placed at a radial distance of 114.4 mm from the center of the volume, centered axially\n",
    "- \"radioactive\" elements have 4 times the activity of \"cold\" elements "
   ]
  },
  {
   "cell_type": "markdown",
   "metadata": {},
   "source": [
    "### Construct the phantom"
   ]
  },
  {
   "cell_type": "code",
   "execution_count": null,
   "metadata": {},
   "outputs": [],
   "source": [
    "# Create the main volume.\n",
    "nema = ph.phantom(180,180,180)\n",
    "\n",
    "# Create the different components of the phantom.\n",
    "sph_r1 = ph.create_sphere(4)*3\n",
    "sph_r2 = ph.create_sphere(6.5)*3\n",
    "sph_r3 = ph.create_sphere(8.5)*3\n",
    "sph_r4 = ph.create_sphere(11)*3\n",
    "\n",
    "sph_c1 = ph.create_sphere(14.0)*-1\n",
    "sph_c2 = ph.create_sphere(18.5)*-1\n",
    "\n",
    "cyl = ph.create_cylinder(22,20)*-1\n",
    "bg  = ph.create_sphere(85)*1\n",
    "\n",
    "# Position them in the main volume.\n",
    "r_pos = 50\n",
    "\n",
    "xoff = np.rint(r_pos).astype('int'); yoff = 0\n",
    "nema.add_to_vol(sph_c2,xoff,yoff,0)\n",
    "xoff = np.rint(np.cos(np.pi/3)*r_pos).astype('int'); yoff = np.rint(np.sin(np.pi/3)*r_pos).astype('int')\n",
    "nema.add_to_vol(sph_r1,xoff,yoff,0)\n",
    "xoff = np.rint(np.cos(2*np.pi/3)*r_pos).astype('int'); yoff = np.rint(np.sin(2*np.pi/3)*r_pos).astype('int')\n",
    "nema.add_to_vol(sph_r2,xoff,yoff,0)\n",
    "xoff = np.rint(np.cos(np.pi)*r_pos).astype('int'); yoff = np.rint(np.sin(np.pi)*r_pos).astype('int')\n",
    "nema.add_to_vol(sph_r3,xoff,yoff,0)\n",
    "xoff = np.rint(np.cos(4*np.pi/3)*r_pos).astype('int'); yoff = np.rint(np.sin(4*np.pi/3)*r_pos).astype('int')\n",
    "nema.add_to_vol(sph_r4,xoff,yoff,0)\n",
    "xoff = np.rint(np.cos(5*np.pi/3)*r_pos).astype('int'); yoff = np.rint(np.sin(5*np.pi/3)*r_pos).astype('int')\n",
    "neam.add_to_vol(sph_c1,xoff,yoff,0)\n",
    "\n",
    "nema.add_to_vol(vol,cyl,0,0,0)\n",
    "nema.add_to_vol(vol,bg,0,0,0)"
   ]
  },
  {
   "cell_type": "markdown",
   "metadata": {},
   "source": [
    "## Plot and save the phantom"
   ]
  },
  {
   "cell_type": "code",
   "execution_count": null,
   "metadata": {},
   "outputs": [],
   "source": [
    "# Get the volume and plot \n",
    "vol = nema.get_volume()\n",
    "plt.imshow(np.sum(vol[:,:,86:91]/5,axis=2).transpose(),origin='lower')\n",
    "plt.colorbar()\n",
    "plt.xlabel(\"x (mm)\")\n",
    "plt.ylabel(\"y (mm)\")"
   ]
  },
  {
   "cell_type": "code",
   "execution_count": null,
   "metadata": {},
   "outputs": [],
   "source": [
    "# Save the phantom to file.\n",
    "nema.save(\"phantom_NEMAlike.npz\")"
   ]
  },
  {
   "cell_type": "markdown",
   "metadata": {},
   "source": [
    "### Generate a 2D profile"
   ]
  },
  {
   "cell_type": "code",
   "execution_count": null,
   "metadata": {},
   "outputs": [],
   "source": [
    "prof = circular_profile(vol[:,:,88],50,100)"
   ]
  },
  {
   "cell_type": "code",
   "execution_count": null,
   "metadata": {},
   "outputs": [],
   "source": [
    "plt.plot(range(len(prof)),prof)"
   ]
  },
  {
   "cell_type": "markdown",
   "metadata": {},
   "source": [
    "### Write the distribution to a binary file"
   ]
  },
  {
   "cell_type": "code",
   "execution_count": null,
   "metadata": {},
   "outputs": [],
   "source": [
    "# Normalize the volume.\n",
    "npimg = vol\n",
    "npimg = npimg.astype('float64') / np.sum(npimg)"
   ]
  },
  {
   "cell_type": "code",
   "execution_count": null,
   "metadata": {},
   "outputs": [],
   "source": [
    "# Flatten and convert to a cumulative distribution.\n",
    "npimg_flat = npimg.flatten().cumsum()\n",
    "\n",
    "# Pack the header information (Nx, Ny, Nz, Lx, Ly, Lz)\n",
    "Nx = npimg.shape[0]\n",
    "Ny = npimg.shape[1]\n",
    "Nz = npimg.shape[2]\n",
    "Lx = float(Nx)\n",
    "Ly = float(Ny)\n",
    "Lz = float(Nz)\n",
    "print(\"Shape = ({},{},{}); size = ({},{},{})\".format(Nx,Ny,Nz,Lx,Ly,Lz))\n",
    "\n",
    "s_hdr1 = struct.pack('i'*3,Nx,Ny,Nz)\n",
    "s_hdr2 = struct.pack('f'*3,Lx,Ly,Lz)\n",
    "s_arr = struct.pack('f'*len(npimg_flat), *npimg_flat)\n",
    "f = open('phantom_NEMAlike.dat','wb')\n",
    "f.write(s_hdr1)\n",
    "f.write(s_hdr2)\n",
    "f.write(s_arr)\n",
    "f.close()"
   ]
  },
  {
   "cell_type": "code",
   "execution_count": null,
   "metadata": {},
   "outputs": [],
   "source": [
    "# Perform some checks.\n",
    "f2 = open('phantom_NEMAlike.dat','rb')\n",
    "x1 = f2.read(4)\n",
    "print(struct.unpack('i',x1))\n",
    "\n",
    "x2 = f2.read(4)\n",
    "print(struct.unpack('i',x2))\n",
    "\n",
    "x3 = f2.read(4)\n",
    "print(struct.unpack('i',x3))\n",
    "\n",
    "f2.read(4)\n",
    "f2.read(4)\n",
    "f2.read(4)\n",
    "\n",
    "for ii in range(2097151): f2.read(4)\n",
    "    \n",
    "print(struct.unpack('f',f2.read(4)))\n",
    "\n",
    "f2.close()"
   ]
  },
  {
   "cell_type": "code",
   "execution_count": null,
   "metadata": {},
   "outputs": [],
   "source": []
  }
 ],
 "metadata": {
  "kernelspec": {
   "display_name": "Python 3",
   "language": "python",
   "name": "python3"
  },
  "language_info": {
   "codemirror_mode": {
    "name": "ipython",
    "version": 3
   },
   "file_extension": ".py",
   "mimetype": "text/x-python",
   "name": "python",
   "nbconvert_exporter": "python",
   "pygments_lexer": "ipython3",
   "version": "3.7.2"
  }
 },
 "nbformat": 4,
 "nbformat_minor": 2
}
